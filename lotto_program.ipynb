{
 "cells": [
  {
   "cell_type": "markdown",
   "metadata": {},
   "source": [
    "## 랜덤 로또 번호 생성기"
   ]
  },
  {
   "cell_type": "code",
   "execution_count": 3,
   "metadata": {},
   "outputs": [
    {
     "name": "stdout",
     "output_type": "stream",
     "text": [
      "[6, 14, 21, 24, 34, 38]\n"
     ]
    }
   ],
   "source": [
    "import random\n",
    "\n",
    "lotto = sorted(random.sample(range(1, 46), 6))\n",
    "print(lotto)"
   ]
  },
  {
   "cell_type": "markdown",
   "metadata": {},
   "source": [
    "## 데이터 기반 로또 번호 생성기"
   ]
  },
  {
   "cell_type": "code",
   "execution_count": 4,
   "metadata": {},
   "outputs": [
    {
     "name": "stdout",
     "output_type": "stream",
     "text": [
      "[1, 18, 27, 34, 39, 40]\n"
     ]
    }
   ],
   "source": [
    "top10_list = [34, 43, 27, 17, 18, 39, 12, 14, 40, 1]\n",
    "lotto_top10 = sorted(random.sample(top10_list, 6))\n",
    "print(lotto_top10)"
   ]
  },
  {
   "cell_type": "markdown",
   "metadata": {},
   "source": [
    "## 반자동 로또 번호 생성기"
   ]
  },
  {
   "cell_type": "markdown",
   "metadata": {},
   "source": [
    "### 원하는 갯수는 수동 입력, 나머지는 데이터 기반으로 자동 추출"
   ]
  },
  {
   "cell_type": "code",
   "execution_count": 23,
   "metadata": {},
   "outputs": [
    {
     "name": "stdout",
     "output_type": "stream",
     "text": [
      "수동으로 뽑고자 하는 번호 갯수를 입력하세요 : 2\n",
      "4\n",
      "원하시는 번호를 입력하세요 (1~45) : 2\n",
      "[40, 12, 39, 14, 2]\n",
      "원하시는 번호를 입력하세요 (1~45) : 4\n",
      "[40, 12, 39, 14, 2, 4]\n",
      "---------------------\n",
      "로또 번호는 아래와 같습니다. 좋은 결과를 바랍니다.\n",
      "[2, 4, 12, 14, 39, 40]\n"
     ]
    }
   ],
   "source": [
    "import random\n",
    "\n",
    "# 데이터 기반으로 추출된 로또 번호 10개\n",
    "top10_list = [34, 43, 27, 17, 18, 39, 12, 14, 40, 1]\n",
    "\n",
    "# 반자동 기능을 위해 수동으로 사용자가 번호를 직접 추가할 수 있도록 하기\n",
    "# 수동으로 추가하고자 하는 번호의 갯수 입력받기\n",
    "select_lotto = int(input(\"수동으로 뽑고자 하는 번호 갯수를 입력하세요 : \"))\n",
    "# 수동으로 입력하는 번호 외에 나머지 번호는 top10_list에서 랜덤 추출하기\n",
    "top10_lotto = random.sample(top10_list, 6-select_lotto)\n",
    "size = len(top10_lotto)\n",
    "print(size)\n",
    "\n",
    "# 추출한 로또 번호가 6개가 아닐 경우 6개가 될 때까지 번호를 입력받고 top10_lotto에 넣기 \n",
    "while True:\n",
    "    size = len(top10_lotto)\n",
    "    if size != 6:\n",
    "        select_lotto = int(input(\"원하시는 번호를 입력하세요 (1~45) : \"))\n",
    "        if select_lotto in top10_lotto != True:\n",
    "            print(\"중복된 값이 있습니다\")\n",
    "            continue\n",
    "        else:\n",
    "            top10_lotto.append(select_lotto)\n",
    "            print(top10_lotto)\n",
    "            continue\n",
    "    else:\n",
    "        break\n",
    "\n",
    "print(\"---------------------\")\n",
    "print(\"로또 번호는 아래와 같습니다. 좋은 결과를 바랍니다.\")\n",
    "print(sorted(top10_lotto))"
   ]
  },
  {
   "cell_type": "code",
   "execution_count": null,
   "metadata": {},
   "outputs": [],
   "source": []
  }
 ],
 "metadata": {
  "kernelspec": {
   "display_name": "Python 3",
   "language": "python",
   "name": "python3"
  },
  "language_info": {
   "codemirror_mode": {
    "name": "ipython",
    "version": 3
   },
   "file_extension": ".py",
   "mimetype": "text/x-python",
   "name": "python",
   "nbconvert_exporter": "python",
   "pygments_lexer": "ipython3",
   "version": "3.8.3"
  }
 },
 "nbformat": 4,
 "nbformat_minor": 4
}
